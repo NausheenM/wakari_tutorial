{
 "metadata": {
  "name": "Introduction to Data Analysis with IPython and Wakari"
 },
 "nbformat": 3,
 "nbformat_minor": 0,
 "worksheets": [
  {
   "cells": [
    {
     "cell_type": "markdown",
     "metadata": {
      "slideshow": {
       "slide_type": "slide"
      }
     },
     "source": [
      "Introduction to Data Analysis with IPython and Wakari\n",
      "=====================================================\n",
      "\n",
      "<center>\n",
      "Ian Stokes-Rees <a href=http://twitter.com/ijstokes>@ijstokes</a>, <a href=http://continuum.io>Continuum Analytics</a>\n",
      "\n",
      "<p><a href=http://continuum.io><img style=\"display: block;\n",
      "    margin-left: auto;\n",
      "    margin-right: auto\" src=https://ijstokes-public.s3.amazonaws.com/img/continuum-logo-color.png></a>\n",
      "</p>\n",
      "\n",
      "<small>\n",
      "<a rel=\"license\" href=\"http://creativecommons.org/licenses/by-sa/3.0/deed.en_US\"><img alt=\"Creative Commons License\" style=\"border-width:0\" src=\"http://i.creativecommons.org/l/by-sa/3.0/88x31.png\" /></a><br />Introduction to Data Analysis with IPython and Wakari <br>\n",
      "by <a xmlns:cc=\"http://creativecommons.org/ns#\" href=\"http://about.me/ijstokes\" property=\"cc:attributionName\" rel=\"cc:attributionURL\">Ian Stokes-Rees</a> is licensed under a <br>\n",
      "<a rel=\"license\" href=\"http://creativecommons.org/licenses/by-sa/3.0/deed.en_US\">Creative Commons Attribution-ShareAlike 3.0 Unported License</a>.<br />\n",
      "Based on a work at <a xmlns:dct=\"http://purl.org/dc/terms/\" href=\"https://github.com/ijstokes/wakari_tutorial\" rel=\"dct:source\">https://github.com/ijstokes/wakari_tutorial</a>.\n",
      "</small>\n",
      "</center>\n",
      "\n"
     ]
    },
    {
     "cell_type": "markdown",
     "metadata": {
      "slideshow": {
       "slide_type": "slide"
      }
     },
     "source": [
      "Outline\n",
      "-------\n",
      "* Understand IPython, IPython Notebook, and Wakari\n",
      "* Basic data analysis with IPython\n",
      "* Data visualization\n",
      "* Publishing results\n",
      "* Basic parallel computing with IPython Parallel"
     ]
    },
    {
     "cell_type": "markdown",
     "metadata": {
      "slideshow": {
       "slide_type": "slide"
      }
     },
     "source": [
      "First Steps\n",
      "-----------\n",
      "1. Create a Wakari account at http://wakari.io (will need to confirm email within 24 hours)\n",
      "2. Start a bash terminal in Wakari\n",
      "3. `git clone https://github.com/ijstokes/wakari_tutorial.git`\n",
      "4. Refresh file manager (left window)\n",
      "5. Double click on `wakari_tutorial` directory\n",
      "6. Click on IPython Notebook file `Introduction to Data Analysis with IPython and Wakari.ipynb`\n"
     ]
    },
    {
     "cell_type": "markdown",
     "metadata": {
      "slideshow": {
       "slide_type": "slide"
      }
     },
     "source": [
      "7. Follow along and execute commands with `SHIFT-ENTER` in each cell.\n",
      "8. If you are in a classroom setting, introduce yourself to the person on either side.  Tell them your name and your favorite Monty Python movie.  These two people will be your Python programming buddies for the next hour, so be prepared to help each other out.\n",
      "\n",
      "<p><a href=http://continuum.io><img style=\"display: block;\n",
      "    margin-left: auto;\n",
      "    margin-right: auto\" src=https://ijstokes-public.s3.amazonaws.com/img/monty_python_knights.png></a>\n",
      "</p>"
     ]
    },
    {
     "cell_type": "markdown",
     "metadata": {
      "slideshow": {
       "slide_type": "slide"
      }
     },
     "source": [
      "Python Statements and Notebook Cells\n",
      "------------------------------------"
     ]
    },
    {
     "cell_type": "code",
     "collapsed": false,
     "input": [
      "print \"This is a cell\""
     ],
     "language": "python",
     "metadata": {
      "slideshow": {
       "slide_type": "fragment"
      }
     },
     "outputs": []
    },
    {
     "cell_type": "code",
     "collapsed": false,
     "input": [
      "x = 4\n",
      "y = 7\n",
      "result = x + y\n",
      "print result"
     ],
     "language": "python",
     "metadata": {
      "slideshow": {
       "slide_type": "fragment"
      }
     },
     "outputs": []
    },
    {
     "cell_type": "markdown",
     "metadata": {
      "slideshow": {
       "slide_type": "fragment"
      }
     },
     "source": [
      "Each cell can contain one or more Python statements"
     ]
    },
    {
     "cell_type": "markdown",
     "metadata": {
      "slideshow": {
       "slide_type": "slide"
      }
     },
     "source": [
      "Practice: Cells and Kernels\n",
      "---------------------------"
     ]
    },
    {
     "cell_type": "code",
     "collapsed": false,
     "input": [
      "import time\n",
      "time.asctime()"
     ],
     "language": "python",
     "metadata": {
      "slideshow": {
       "slide_type": "fragment"
      }
     },
     "outputs": [
      {
       "output_type": "pyout",
       "prompt_number": 1,
       "text": [
        "'Sun Jul 28 13:13:07 2013'"
       ]
      }
     ],
     "prompt_number": 1
    },
    {
     "cell_type": "code",
     "collapsed": false,
     "input": [
      "print \"Seconds since the epoch:\", time.time()\n",
      "print \"Years since the epoch (approx): %.2f\" % (time.time()/(365 * 24 * 60 * 60))\n",
      "print \"Previously computed value result: \", result"
     ],
     "language": "python",
     "metadata": {
      "slideshow": {
       "slide_type": "fragment"
      }
     },
     "outputs": []
    },
    {
     "cell_type": "markdown",
     "metadata": {
      "slideshow": {
       "slide_type": "slide"
      }
     },
     "source": [
      "1. And cells can be evaluated multiple times -- try re-executing the above `time` cells and watch the time change\n",
      " `\n",
      "2. A running notebook (like this one, if you've opened it in IPython Notebook\") has a Python kernel associated with it, and executing a cell is like running the statements in that cell inside an interactive IPython interpreter.\n",
      "\n",
      "3. You can re-order cells and then re-execute them, but re-ordering does not re-run all other cells.  For example, try moving the above \"seconds since the epoch\" cell up near the **First Steps** section using the \u2b06 button in the toolbar, then re-run it.\n",
      "\n",
      "4. Notice that the `time` module and the `result` variable are still in scope."
     ]
    },
    {
     "cell_type": "markdown",
     "metadata": {
      "slideshow": {
       "slide_type": "slide"
      }
     },
     "source": [
      "5. When you save your Notebook (with the \ud83d\udcbe  button in the toobar) all your input and output cells are saved as well.  Try it now, then select _File\u2192Close and Halt_ -- you will get a warning message that the kernel has stopped.\n",
      "\n",
      "6. Close the notebook by clicking the \u2297 in the tab.\n",
      "\n",
      "7. Re-open the notebook by double clicking on it in the left sidebar menu.\n",
      "\n",
      "8. Notice the output has been saved -- this hasn't re-executed.  Clear the output by selecting _Cell\u2192All Output\u2192Clear_.\n",
      "\n",
      "9. Now try re-executing all the cells in the notebook by selecting _Cell\u2192Run All_.\n",
      "\n",
      "10. If you moved the `time` cell up before saving, then you'll get an exception when this runs, since `import time` hasn't been called yet.  "
     ]
    },
    {
     "cell_type": "code",
     "collapsed": false,
     "input": [
      "wont_work = 73 + 'some string'"
     ],
     "language": "python",
     "metadata": {
      "slideshow": {
       "slide_type": "fragment"
      }
     },
     "outputs": []
    },
    {
     "cell_type": "markdown",
     "metadata": {
      "slideshow": {
       "slide_type": "slide"
      }
     },
     "source": [
      "11. Notice that _Run All_ will stop if it hits a code cell that throws an exception.  Fix `'some string'` by making it a number, then select _Cell\u2192Run All Below_.\n",
      "\n",
      "12. You can also delete and insert cells.  Select the cell above and then cut it out with the \u2702 menu bar button.  Add a new cell above this one using the \u2912 button.  Try adding some code and executing it.\n",
      "\n",
      "13. You can also copy cells with the copy button (right of the scissors), and paste them with the paste button (clipboard two-right of the scissors).  Try copying the \"time since epoch\" cell."
     ]
    },
    {
     "cell_type": "markdown",
     "metadata": {
      "slideshow": {
       "slide_type": "slide"
      }
     },
     "source": [
      "13. The loop below will take a long time to run.  In IPython Notebook we can interrupt the kernel similar to a CTRL-C signal by clicking on the stop button \"\u25a0\" in the menu bar.  Selecting _Kernel\u2192Interrupt_ will do the same thing.  Start the loop running, then after a few seconds stop it with this method.\n",
      "\n",
      "14. It is often necessary to \"start fresh\", and that is done by resetting the Notebook kernel with _Kernel\u2192Reset_.  After you've done this, you'll need to re-execute cells from the _Cells_ menu or by selectively using `SHIFT-ENTER` in cells of interest."
     ]
    },
    {
     "cell_type": "code",
     "collapsed": false,
     "input": [
      "for i in xrange(1000):\n",
      "    print i\n",
      "    time.sleep(0.5)"
     ],
     "language": "python",
     "metadata": {
      "slideshow": {
       "slide_type": "fragment"
      }
     },
     "outputs": []
    },
    {
     "cell_type": "markdown",
     "metadata": {
      "slideshow": {
       "slide_type": "slide"
      }
     },
     "source": [
      "IPython and IPython Notebook\n",
      "----------------------------"
     ]
    },
    {
     "cell_type": "markdown",
     "metadata": {
      "slideshow": {
       "slide_type": "fragment"
      }
     },
     "source": [
      "IPython extends the functionality of the standard python interactive interpreter.\n",
      "\n",
      "\u2047 Should you ever use IPython to run Python programs?\n",
      "\n",
      "\u2047 What are some features of IPython?"
     ]
    },
    {
     "cell_type": "markdown",
     "metadata": {
      "slideshow": {
       "slide_type": "slide"
      }
     },
     "source": [
      "* IPython should only be used interactively, never `ipython myprog.py`.\n",
      "\n",
      "* Extended commands and syntax are only meant for interactive use, not to be added to Python modules.\n",
      "\n",
      "* Many great features:\n",
      "    * tab-completion\n",
      "    * logging of commands (and output)\n",
      "    * file system interaction (`cd ls cp`   etc.)\n",
      "    * extensions\n",
      "    * \"magics\"\n",
      "    * QT console (inline graphics)\n",
      "    * Notebook"
     ]
    },
    {
     "cell_type": "code",
     "collapsed": false,
     "input": [
      "pwd"
     ],
     "language": "python",
     "metadata": {
      "slideshow": {
       "slide_type": "slide"
      }
     },
     "outputs": [
      {
       "output_type": "pyout",
       "prompt_number": 2,
       "text": [
        "u'/user_home/w_ijstokes/wakari_tutorial'"
       ]
      }
     ],
     "prompt_number": 2
    },
    {
     "cell_type": "code",
     "collapsed": false,
     "input": [
      "ls"
     ],
     "language": "python",
     "metadata": {
      "slideshow": {
       "slide_type": "fragment"
      }
     },
     "outputs": [
      {
       "output_type": "stream",
       "stream": "stdout",
       "text": [
        "Introduction to Data Analysis with IPython and Wakari.ipynb  README.md\r\n",
        "LICENSE                                                      Untitled5.ipynb\r\n"
       ]
      }
     ],
     "prompt_number": 3
    },
    {
     "cell_type": "code",
     "collapsed": false,
     "input": [
      "time."
     ],
     "language": "python",
     "metadata": {
      "slideshow": {
       "slide_type": "fragment"
      }
     },
     "outputs": []
    },
    {
     "cell_type": "code",
     "collapsed": false,
     "input": [
      "%%bash\n",
      "for f in *.dat; do\n",
      "    echo -n $f\n",
      "    wc -l $f\n",
      "done"
     ],
     "language": "python",
     "metadata": {},
     "outputs": []
    }
   ],
   "metadata": {}
  }
 ]
}